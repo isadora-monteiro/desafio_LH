{
 "cells": [
  {
   "cell_type": "code",
   "execution_count": null,
   "metadata": {
    "vscode": {
     "languageId": "plaintext"
    }
   },
   "outputs": [],
   "source": [
    "import matplotlib.pyplot as pyplot\n",
    "import mlflow\n",
    "import pandas as pd \n",
    "import seaborn as sns\n",
    "import statsforecast\n",
    "import warnings\n",
    "\n",
    "from statsmodels.tsa.seasonal import seasonal_decompose, DecomposeResult\n",
    "\n",
    "pd.options.display.float_format = '{:.2f}'.float_format\n",
    "warnings.filterwarnings('ignore')\n"
   ]
  },
  {
   "cell_type": "code",
   "execution_count": null,
   "metadata": {
    "vscode": {
     "languageId": "plaintext"
    }
   },
   "outputs": [],
   "source": [
    "%load_ext autoreload\n",
    "%autoreload 2\n",
    "%load_ext kedro.ipython\n",
    "%reload_kedro sbx_kedro_demand_forecast"
   ]
  },
  {
   "cell_type": "code",
   "execution_count": null,
   "metadata": {
    "vscode": {
     "languageId": "plaintext"
    }
   },
   "outputs": [],
   "source": [
    "train = catalog.load('sales_train')\n",
    "stores = catalog.load('stores')"
   ]
  },
  {
   "cell_type": "code",
   "execution_count": null,
   "metadata": {
    "vscode": {
     "languageId": "plaintext"
    }
   },
   "outputs": [],
   "source": [
    "train.head()"
   ]
  },
  {
   "cell_type": "markdown",
   "metadata": {},
   "source": [
    "id - data- store_nbr - family - sales - onpromotion"
   ]
  },
  {
   "cell_type": "code",
   "execution_count": null,
   "metadata": {
    "vscode": {
     "languageId": "plaintext"
    }
   },
   "outputs": [],
   "source": [
    "stores.head()"
   ]
  },
  {
   "cell_type": "markdown",
   "metadata": {},
   "source": [
    "store_nbr - city - state - type - cluster"
   ]
  },
  {
   "cell_type": "code",
   "execution_count": null,
   "metadata": {
    "vscode": {
     "languageId": "plaintext"
    }
   },
   "outputs": [],
   "source": [
    "(\n",
    "    train.merge(stores, on='store_nbr')\n",
    "    .groupby('family')['sales']\n",
    "    .sum()\n",
    "    .sort_values(ascending=False)\n",
    ")"
   ]
  },
  {
   "cell_type": "markdown",
   "metadata": {},
   "source": [
    "conta o valor total de vendas por familia (categoria)"
   ]
  },
  {
   "cell_type": "code",
   "execution_count": null,
   "metadata": {
    "vscode": {
     "languageId": "plaintext"
    }
   },
   "outputs": [],
   "source": [
    "(\n",
    "    train.merge(stores, on='store_nbr')\n",
    "    .groupby('store_nbr')['sales']\n",
    "    .sum()\n",
    "    .sort_values(ascending=False)\n",
    ")"
   ]
  },
  {
   "cell_type": "markdown",
   "metadata": {},
   "source": [
    "conta o valor total de vendas por loja"
   ]
  },
  {
   "cell_type": "code",
   "execution_count": null,
   "metadata": {
    "vscode": {
     "languageId": "plaintext"
    }
   },
   "outputs": [],
   "source": [
    "import pandas as pd\n",
    "import numpy as np\n",
    "import matplotlib.pyplot as plt\n",
    "from statsmodels.tsa.arima.model import ARIMA\n",
    "\n",
    "# Carregar os dados (substitua pelo seu caminho)\n",
    "df = pd.read_csv('dados_vendas.csv', parse_dates=['Data'])\n",
    "\n",
    "# Agrupar os dados por produto e loja\n",
    "df_grouped = df.groupby(['Produto', 'Loja']).resample('M', on='Data').sum()\n",
    "\n",
    "# Função para criar e treinar o modelo ARIMA\n",
    "def criar_modelo_arima(df):\n",
    "    model = ARIMA(df, order=(1,1,1))  # Ajustar os parâmetros conforme necessário\n",
    "    model_fit = model.fit()\n",
    "    return model_fit\n",
    "\n",
    "# Previsões para os próximos 3 meses\n",
    "forecast = model_fit.forecast(steps=3)\n",
    "\n",
    "# Visualizar os resultados\n",
    "plt.plot(df)\n",
    "plt.plot(forecast, color='red')\n",
    "plt.show()"
   ]
  }
 ],
 "metadata": {
  "language_info": {
   "name": "python"
  }
 },
 "nbformat": 4,
 "nbformat_minor": 2
}
