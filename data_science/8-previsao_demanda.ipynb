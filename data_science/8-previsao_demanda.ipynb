{
 "cells": [
  {
   "cell_type": "code",
   "execution_count": 1,
   "metadata": {},
   "outputs": [],
   "source": [
    "import snowflake.connector\n",
    "import pandas as pd\n",
    "\n",
    "from statsmodels.tsa.arima.model import ARIMA\n",
    "import matplotlib.pyplot as plt"
   ]
  },
  {
   "cell_type": "markdown",
   "metadata": {},
   "source": [
    "CONEXÃO"
   ]
  },
  {
   "cell_type": "code",
   "execution_count": 2,
   "metadata": {},
   "outputs": [],
   "source": [
    "conn = snowflake.connector.connect(\n",
    "    user='isadoramonteiro'\n",
    "    , password='engTI.5441'\n",
    "    , account='SGNVEPB-LM56145' \n",
    "    , warehouse='compute_wh'  \n",
    "    , database='aw'    \n",
    "    , schema='prd'        \n",
    ")"
   ]
  },
  {
   "cell_type": "code",
   "execution_count": 3,
   "metadata": {},
   "outputs": [],
   "source": [
    "cursor = conn.cursor()"
   ]
  },
  {
   "cell_type": "code",
   "execution_count": null,
   "metadata": {},
   "outputs": [],
   "source": [
    "# Fechar o cursor e a conexão\n",
    "cursor.close()\n",
    "conn.close()"
   ]
  },
  {
   "cell_type": "markdown",
   "metadata": {},
   "source": [
    "CARREGAR OS DADOS"
   ]
  },
  {
   "cell_type": "code",
   "execution_count": 4,
   "metadata": {},
   "outputs": [
    {
     "name": "stdout",
     "output_type": "stream",
     "text": [
      "           NM_CLIENTE        NOME_PRODUTO   ANO  MES    DATA_REF  QUANTIDADE  \\\n",
      "0   Extreme Toy Store        Front Brakes  2013   12  2013-12-01           1   \n",
      "1   Extreme Toy Store   HL Bottom Bracket  2013   12  2013-12-01           2   \n",
      "2   Extreme Toy Store   HL Bottom Bracket  2014    3  2014-03-01           1   \n",
      "3   Extreme Toy Store   HL Mountain Pedal  2013    6  2013-06-01           2   \n",
      "4   Extreme Toy Store         LL Crankset  2013    9  2013-09-01           1   \n",
      "..                ...                 ...   ...  ...         ...         ...   \n",
      "95  First Cycle Store  Road-250 Black, 48  2014    5  2014-05-01           3   \n",
      "96  First Cycle Store  Road-250 Black, 52  2013    7  2013-07-01           1   \n",
      "97  First Cycle Store  Road-250 Black, 52  2013   10  2013-10-01           1   \n",
      "98  First Cycle Store  Road-250 Black, 52  2014    5  2014-05-01           4   \n",
      "99  First Cycle Store  Road-250 Black, 58  2013    7  2013-07-01           1   \n",
      "\n",
      "     REGIAO  \n",
      "0   Alabama  \n",
      "1   Alabama  \n",
      "2   Alabama  \n",
      "3   Alabama  \n",
      "4   Alabama  \n",
      "..      ...  \n",
      "95  Arizona  \n",
      "96  Arizona  \n",
      "97  Arizona  \n",
      "98  Arizona  \n",
      "99  Arizona  \n",
      "\n",
      "[100 rows x 7 columns]\n"
     ]
    }
   ],
   "source": [
    "query = \"\"\"SELECT \n",
    "            NM_CLIENTE\n",
    "            , NOME_PRODUTO\n",
    "            , ANO\n",
    "            , MES\n",
    "            , DATA_REF\n",
    "            , QUANTIDADE\n",
    "            , REGIAO\n",
    "        from agg_sales_store \"\"\"\n",
    "\n",
    "cursor.execute(query)\n",
    "rows = cursor.fetchall()\n",
    "\n",
    "columns = [desc[0] for desc in cursor.description]\n",
    "df_cliente = pd.DataFrame(rows, columns=columns)\n",
    "\n",
    "print(df_cliente.head(100))"
   ]
  },
  {
   "cell_type": "markdown",
   "metadata": {},
   "source": [
    "PREVISÃO DE DEMANDA"
   ]
  },
  {
   "cell_type": "code",
   "execution_count": 7,
   "metadata": {},
   "outputs": [
    {
     "name": "stderr",
     "output_type": "stream",
     "text": [
      "C:\\Users\\user\\AppData\\Local\\Packages\\PythonSoftwareFoundation.Python.3.10_qbz5n2kfra8p0\\LocalCache\\local-packages\\Python310\\site-packages\\statsmodels\\tsa\\statespace\\sarimax.py:966: UserWarning: Non-stationary starting autoregressive parameters found. Using zeros as starting parameters.\n",
      "  warn('Non-stationary starting autoregressive parameters'\n",
      "C:\\Users\\user\\AppData\\Local\\Packages\\PythonSoftwareFoundation.Python.3.10_qbz5n2kfra8p0\\LocalCache\\local-packages\\Python310\\site-packages\\statsmodels\\tsa\\statespace\\sarimax.py:966: UserWarning: Non-stationary starting autoregressive parameters found. Using zeros as starting parameters.\n",
      "  warn('Non-stationary starting autoregressive parameters'\n",
      "C:\\Users\\user\\AppData\\Local\\Packages\\PythonSoftwareFoundation.Python.3.10_qbz5n2kfra8p0\\LocalCache\\local-packages\\Python310\\site-packages\\statsmodels\\tsa\\statespace\\sarimax.py:966: UserWarning: Non-stationary starting autoregressive parameters found. Using zeros as starting parameters.\n",
      "  warn('Non-stationary starting autoregressive parameters'\n",
      "C:\\Users\\user\\AppData\\Local\\Packages\\PythonSoftwareFoundation.Python.3.10_qbz5n2kfra8p0\\LocalCache\\local-packages\\Python310\\site-packages\\statsmodels\\tsa\\statespace\\sarimax.py:966: UserWarning: Non-stationary starting autoregressive parameters found. Using zeros as starting parameters.\n",
      "  warn('Non-stationary starting autoregressive parameters'\n",
      "C:\\Users\\user\\AppData\\Local\\Packages\\PythonSoftwareFoundation.Python.3.10_qbz5n2kfra8p0\\LocalCache\\local-packages\\Python310\\site-packages\\statsmodels\\tsa\\statespace\\sarimax.py:966: UserWarning: Non-stationary starting autoregressive parameters found. Using zeros as starting parameters.\n",
      "  warn('Non-stationary starting autoregressive parameters'\n",
      "C:\\Users\\user\\AppData\\Local\\Packages\\PythonSoftwareFoundation.Python.3.10_qbz5n2kfra8p0\\LocalCache\\local-packages\\Python310\\site-packages\\statsmodels\\tsa\\statespace\\sarimax.py:966: UserWarning: Non-stationary starting autoregressive parameters found. Using zeros as starting parameters.\n",
      "  warn('Non-stationary starting autoregressive parameters'\n",
      "C:\\Users\\user\\AppData\\Local\\Packages\\PythonSoftwareFoundation.Python.3.10_qbz5n2kfra8p0\\LocalCache\\local-packages\\Python310\\site-packages\\statsmodels\\tsa\\statespace\\sarimax.py:966: UserWarning: Non-stationary starting autoregressive parameters found. Using zeros as starting parameters.\n",
      "  warn('Non-stationary starting autoregressive parameters'\n",
      "C:\\Users\\user\\AppData\\Local\\Packages\\PythonSoftwareFoundation.Python.3.10_qbz5n2kfra8p0\\LocalCache\\local-packages\\Python310\\site-packages\\statsmodels\\tsa\\statespace\\sarimax.py:966: UserWarning: Non-stationary starting autoregressive parameters found. Using zeros as starting parameters.\n",
      "  warn('Non-stationary starting autoregressive parameters'\n",
      "C:\\Users\\user\\AppData\\Local\\Packages\\PythonSoftwareFoundation.Python.3.10_qbz5n2kfra8p0\\LocalCache\\local-packages\\Python310\\site-packages\\statsmodels\\tsa\\statespace\\sarimax.py:966: UserWarning: Non-stationary starting autoregressive parameters found. Using zeros as starting parameters.\n",
      "  warn('Non-stationary starting autoregressive parameters'\n"
     ]
    }
   ],
   "source": [
    "import pandas as pd\n",
    "from statsmodels.tsa.arima.model import ARIMA\n",
    "\n",
    "def forecast_demand(df_cliente):\n",
    "    results = []\n",
    "\n",
    "    # Análise para cada produto e loja\n",
    "    for NOME_PRODUTO in df_cliente['NOME_PRODUTO'].unique():\n",
    "        for NM_CLIENTE in df_cliente['NM_CLIENTE'].unique():\n",
    "            # Filtrar os dados de acordo com o produto e loja\n",
    "            df_filtered = df_cliente[(df_cliente['NOME_PRODUTO'] == NOME_PRODUTO) & (df_cliente['NM_CLIENTE'] == NM_CLIENTE)]\n",
    "            \n",
    "            # Verificar se existem dados suficientes (não podemos modelar se houver menos de 5 observações)\n",
    "            if len(df_filtered) > 5:\n",
    "                df_filtered = df_filtered[['DATA_REF', 'QUANTIDADE']]\n",
    "                \n",
    "                # Agregar as quantidades por data (soma ou média)\n",
    "                df_filtered = df_filtered.groupby('DATA_REF')['QUANTIDADE'].sum().reset_index()\n",
    "\n",
    "                # Ordenar os dados por data para garantir que o índice seja crescente\n",
    "                df_filtered['DATA_REF'] = pd.to_datetime(df_filtered['DATA_REF'])\n",
    "                df_filtered = df_filtered.sort_values('DATA_REF')\n",
    "\n",
    "                df_filtered.set_index('DATA_REF', inplace=True)\n",
    "                \n",
    "                # Definir a frequência do índice como mensal ('MS' para o início de cada mês)\n",
    "                df_filtered = df_filtered.asfreq('MS', method='pad')\n",
    "\n",
    "                model = ARIMA(df_filtered, order=(1, 0, 0))  # Ajustar os parâmetros conforme necessário\n",
    "                model_fit = model.fit()\n",
    "                forecast = model_fit.forecast(steps=3)\n",
    "                \n",
    "                result = {\n",
    "                    'NOME_PRODUTO': NOME_PRODUTO,\n",
    "                    'NM_CLIENTE': NM_CLIENTE,\n",
    "                    'forecast_1': round(forecast.iloc[0], 1),  # Primeiro mês\n",
    "                    'forecast_2': round(forecast.iloc[1], 1),  # Segundo mês\n",
    "                    'forecast_3': round(forecast.iloc[2], 1)   # Terceiro mês\n",
    "                }\n",
    "                results.append(result)\n",
    "\n",
    "    return results\n",
    "\n",
    "results = forecast_demand(df_cliente)\n"
   ]
  },
  {
   "cell_type": "code",
   "execution_count": 8,
   "metadata": {},
   "outputs": [
    {
     "name": "stdout",
     "output_type": "stream",
     "text": [
      "               NOME_PRODUTO                NM_CLIENTE  forecast_1  forecast_2  \\\n",
      "0    Mountain-200 Black, 46  Professional Cycle Store         2.5         2.8   \n",
      "1    Mountain-200 Black, 46       Real Sporting Goods         8.7         7.1   \n",
      "2    Mountain-200 Black, 46          Many Bikes Store         2.5         2.8   \n",
      "3    Mountain-200 Black, 46           Resale Services         5.3         4.7   \n",
      "4    Mountain-200 Black, 46           Small Bike Shop         2.3         2.6   \n",
      "..                      ...                       ...         ...         ...   \n",
      "95  Mountain-200 Silver, 46      Initial Bike Company         4.1         4.2   \n",
      "96  Mountain-200 Silver, 46     Immediate Repair Shop         6.7         6.4   \n",
      "97  Mountain-200 Silver, 46    Registered Cycle Store         2.9         3.4   \n",
      "98  Mountain-200 Silver, 46           Spare Parts Co.         3.0         2.9   \n",
      "99  Mountain-200 Silver, 46    Noiseless Gear Company         3.1         3.2   \n",
      "\n",
      "    forecast_3  \n",
      "0          3.0  \n",
      "1          6.1  \n",
      "2          3.0  \n",
      "3          4.3  \n",
      "4          2.7  \n",
      "..         ...  \n",
      "95         4.2  \n",
      "96         6.2  \n",
      "97         3.7  \n",
      "98         2.9  \n",
      "99         3.2  \n",
      "\n",
      "[100 rows x 5 columns]\n"
     ]
    }
   ],
   "source": [
    "df = pd.DataFrame(results)\n",
    "\n",
    "# Exibindo o DataFrame\n",
    "print(df.head(100))"
   ]
  },
  {
   "cell_type": "code",
   "execution_count": 9,
   "metadata": {},
   "outputs": [
    {
     "name": "stdout",
     "output_type": "stream",
     "text": [
      "                NOME_PRODUTO                      NM_CLIENTE  forecast_1  \\\n",
      "0     Mountain-200 Black, 46        Professional Cycle Store         2.5   \n",
      "1     Mountain-200 Black, 46             Real Sporting Goods         8.7   \n",
      "2     Mountain-200 Black, 46                Many Bikes Store         2.5   \n",
      "3     Mountain-200 Black, 46                 Resale Services         5.3   \n",
      "4     Mountain-200 Black, 46                 Small Bike Shop         2.3   \n",
      "...                      ...                             ...         ...   \n",
      "1726        Road-650 Red, 44        Advanced Bike Components         4.6   \n",
      "1727        Road-650 Red, 44               Fitness Toy Store         7.2   \n",
      "1728        Road-650 Red, 44         Totes & Baskets Company         6.7   \n",
      "1729        Road-650 Red, 44  Sure & Reliable Sporting Goods         2.9   \n",
      "1730        Road-650 Red, 44                  Good Bike Shop         2.2   \n",
      "\n",
      "      forecast_2  forecast_3  \n",
      "0            2.8         3.0  \n",
      "1            7.1         6.1  \n",
      "2            2.8         3.0  \n",
      "3            4.7         4.3  \n",
      "4            2.6         2.7  \n",
      "...          ...         ...  \n",
      "1726         5.1         5.4  \n",
      "1727         8.2         8.6  \n",
      "1728         6.4         6.1  \n",
      "1729         2.8         2.7  \n",
      "1730         2.4         2.5  \n",
      "\n",
      "[1731 rows x 5 columns]\n"
     ]
    }
   ],
   "source": [
    "df_cleaned = df[~df[['forecast_1', 'forecast_2', 'forecast_3' ]].eq(0).all(axis=1)]\n",
    "print(df_cleaned)"
   ]
  },
  {
   "cell_type": "code",
   "execution_count": 10,
   "metadata": {},
   "outputs": [],
   "source": [
    "df_cleaned.to_csv('8-previsao_demanda.csv')"
   ]
  }
 ],
 "metadata": {
  "kernelspec": {
   "display_name": "Python 3",
   "language": "python",
   "name": "python3"
  },
  "language_info": {
   "codemirror_mode": {
    "name": "ipython",
    "version": 3
   },
   "file_extension": ".py",
   "mimetype": "text/x-python",
   "name": "python",
   "nbconvert_exporter": "python",
   "pygments_lexer": "ipython3",
   "version": "3.10.11"
  }
 },
 "nbformat": 4,
 "nbformat_minor": 2
}
