{
 "cells": [
  {
   "cell_type": "code",
   "execution_count": 3,
   "metadata": {},
   "outputs": [],
   "source": [
    "import snowflake.connector\n",
    "import pandas as pd\n",
    "\n",
    "from statsmodels.tsa.arima.model import ARIMA\n",
    "import matplotlib.pyplot as plt\n",
    "\n",
    "import pandas as pd\n",
    "import numpy as np\n",
    "import matplotlib.pyplot as plt\n",
    "from sklearn.linear_model import LinearRegression\n",
    "from sklearn.metrics import mean_absolute_error, mean_squared_error\n",
    "from statsmodels.tsa.arima.model import ARIMA\n",
    "from sklearn.model_selection import train_test_split"
   ]
  },
  {
   "cell_type": "markdown",
   "metadata": {},
   "source": [
    "CONEXÃO"
   ]
  },
  {
   "cell_type": "code",
   "execution_count": 4,
   "metadata": {},
   "outputs": [],
   "source": [
    "from dotenv import load_dotenv\n",
    "import os\n",
    "\n",
    "load_dotenv('config.env')\n",
    "\n",
    "user = os.getenv('user')\n",
    "password = os.getenv('password')\n",
    "account = os.getenv('account')\n",
    "warehouse = os.getenv('warehouse')\n",
    "database = os.getenv('database')\n",
    "schema = os.getenv('schema')"
   ]
  },
  {
   "cell_type": "code",
   "execution_count": 5,
   "metadata": {},
   "outputs": [],
   "source": [
    "conn = snowflake.connector.connect(\n",
    "    user=user\n",
    "    , password=password\n",
    "    , account=account \n",
    "    , warehouse=warehouse\n",
    "    , database=database   \n",
    "    , schema=schema       \n",
    ")"
   ]
  },
  {
   "cell_type": "code",
   "execution_count": 3,
   "metadata": {},
   "outputs": [],
   "source": [
    "cursor = conn.cursor()"
   ]
  },
  {
   "cell_type": "code",
   "execution_count": null,
   "metadata": {},
   "outputs": [],
   "source": [
    "cursor.close()\n",
    "conn.close()"
   ]
  },
  {
   "cell_type": "markdown",
   "metadata": {},
   "source": [
    "CARREGAR OS DADOS"
   ]
  },
  {
   "cell_type": "code",
   "execution_count": 4,
   "metadata": {},
   "outputs": [
    {
     "name": "stdout",
     "output_type": "stream",
     "text": [
      "           NM_CLIENTE        NOME_PRODUTO   ANO  MES    DATA_REF  QUANTIDADE  \\\n",
      "0   Extreme Toy Store        Front Brakes  2013   12  2013-12-01           1   \n",
      "1   Extreme Toy Store   HL Bottom Bracket  2013   12  2013-12-01           2   \n",
      "2   Extreme Toy Store   HL Bottom Bracket  2014    3  2014-03-01           1   \n",
      "3   Extreme Toy Store   HL Mountain Pedal  2013    6  2013-06-01           2   \n",
      "4   Extreme Toy Store         LL Crankset  2013    9  2013-09-01           1   \n",
      "..                ...                 ...   ...  ...         ...         ...   \n",
      "95  First Cycle Store  Road-250 Black, 48  2014    5  2014-05-01           3   \n",
      "96  First Cycle Store  Road-250 Black, 52  2013    7  2013-07-01           1   \n",
      "97  First Cycle Store  Road-250 Black, 52  2013   10  2013-10-01           1   \n",
      "98  First Cycle Store  Road-250 Black, 52  2014    5  2014-05-01           4   \n",
      "99  First Cycle Store  Road-250 Black, 58  2013    7  2013-07-01           1   \n",
      "\n",
      "     REGIAO  \n",
      "0   Alabama  \n",
      "1   Alabama  \n",
      "2   Alabama  \n",
      "3   Alabama  \n",
      "4   Alabama  \n",
      "..      ...  \n",
      "95  Arizona  \n",
      "96  Arizona  \n",
      "97  Arizona  \n",
      "98  Arizona  \n",
      "99  Arizona  \n",
      "\n",
      "[100 rows x 7 columns]\n"
     ]
    }
   ],
   "source": [
    "query = \"\"\"SELECT \n",
    "            NM_CLIENTE\n",
    "            , NOME_PRODUTO\n",
    "            , ANO\n",
    "            , MES\n",
    "            , DATA_REF\n",
    "            , QUANTIDADE\n",
    "            , REGIAO\n",
    "        from agg_sales_store \"\"\"\n",
    "\n",
    "cursor.execute(query)\n",
    "rows = cursor.fetchall()\n",
    "\n",
    "columns = [desc[0] for desc in cursor.description]\n",
    "df_cliente = pd.DataFrame(rows, columns=columns)\n",
    "\n",
    "print(df_cliente.head(100))"
   ]
  },
  {
   "cell_type": "markdown",
   "metadata": {},
   "source": [
    "PREPARAR OS DADOS"
   ]
  },
  {
   "cell_type": "code",
   "execution_count": 6,
   "metadata": {},
   "outputs": [],
   "source": [
    "df_cliente['DATA_REF'] = pd.to_datetime(df_cliente['DATA_REF'])\n",
    "df_grouped = df_cliente.groupby(['NOME_PRODUTO', 'DATA_REF'])['QUANTIDADE'].sum().reset_index()\n",
    "\n",
    "produto_teste = 'HL Bottom Bracket'\n",
    "df_produto = df_grouped[df_grouped['NOME_PRODUTO'] == produto_teste]\n",
    "\n",
    "\n",
    "df_produto.set_index('DATA_REF', inplace=True)\n",
    "df_produto = df_produto.asfreq('MS')\n",
    "df_produto.dropna(subset=['QUANTIDADE'], inplace=True)\n",
    "\n",
    "y = df_produto['QUANTIDADE']\n",
    "\n",
    "# Dividir em treino (80%) e teste (20%)\n",
    "train_size = int(len(y) * 0.8)\n",
    "y_train, y_test = y[:train_size], y[train_size:]\n",
    "t_train, t_test = np.arange(len(y_train)), np.arange(len(y_test))\n",
    "\n"
   ]
  },
  {
   "cell_type": "markdown",
   "metadata": {},
   "source": [
    "REGRESSÃO LINEAR"
   ]
  },
  {
   "cell_type": "code",
   "execution_count": 7,
   "metadata": {},
   "outputs": [],
   "source": [
    "X_train = t_train.reshape(-1, 1)\n",
    "X_test = t_test.reshape(-1, 1)\n",
    "\n",
    "\n",
    "reg_model = LinearRegression()\n",
    "reg_model.fit(X_train, y_train)\n",
    "\n",
    "\n",
    "y_reg_pred = reg_model.predict(X_test)"
   ]
  },
  {
   "cell_type": "markdown",
   "metadata": {},
   "source": [
    "ARIMA"
   ]
  },
  {
   "cell_type": "code",
   "execution_count": 8,
   "metadata": {},
   "outputs": [
    {
     "name": "stderr",
     "output_type": "stream",
     "text": [
      "C:\\Users\\user\\AppData\\Local\\Packages\\PythonSoftwareFoundation.Python.3.10_qbz5n2kfra8p0\\LocalCache\\local-packages\\Python310\\site-packages\\statsmodels\\tsa\\base\\tsa_model.py:473: ValueWarning: No frequency information was provided, so inferred frequency MS will be used.\n",
      "  self._init_dates(dates, freq)\n",
      "C:\\Users\\user\\AppData\\Local\\Packages\\PythonSoftwareFoundation.Python.3.10_qbz5n2kfra8p0\\LocalCache\\local-packages\\Python310\\site-packages\\statsmodels\\tsa\\base\\tsa_model.py:473: ValueWarning: No frequency information was provided, so inferred frequency MS will be used.\n",
      "  self._init_dates(dates, freq)\n",
      "C:\\Users\\user\\AppData\\Local\\Packages\\PythonSoftwareFoundation.Python.3.10_qbz5n2kfra8p0\\LocalCache\\local-packages\\Python310\\site-packages\\statsmodels\\tsa\\base\\tsa_model.py:473: ValueWarning: No frequency information was provided, so inferred frequency MS will be used.\n",
      "  self._init_dates(dates, freq)\n"
     ]
    }
   ],
   "source": [
    "arima_model = ARIMA(y_train, order=(0, 1, 1))\n",
    "arima_fit = arima_model.fit()\n",
    "\n",
    "\n",
    "y_arima_pred = arima_fit.forecast(steps=len(y_test))"
   ]
  },
  {
   "cell_type": "markdown",
   "metadata": {},
   "source": [
    "MÉTRICAS DE ERRO"
   ]
  },
  {
   "cell_type": "code",
   "execution_count": 9,
   "metadata": {},
   "outputs": [
    {
     "name": "stdout",
     "output_type": "stream",
     "text": [
      "Modelo de Regressão Linear para HL Bottom Bracket:\n",
      "RMSE: 16.12, MAE: 12.71, MAPE: 21.54%\n",
      "\n",
      "Modelo ARIMA para HL Bottom Bracket:\n",
      "RMSE: 16.82, MAE: 12.75, MAPE: 10.70%\n",
      "\n"
     ]
    }
   ],
   "source": [
    "def mean_absolute_percentage_error(y_true, y_pred):\n",
    "    return np.mean(np.abs((y_true - y_pred) / y_true)) * 100\n",
    "\n",
    "\n",
    "rmse_reg = np.sqrt(mean_squared_error(y_test, y_reg_pred))\n",
    "mae_reg = mean_absolute_error(y_test, y_reg_pred)\n",
    "mape_reg = mean_absolute_percentage_error(y_test, y_reg_pred)\n",
    "\n",
    "\n",
    "rmse_arima = np.sqrt(mean_squared_error(y_test, y_arima_pred))\n",
    "mae_arima = mean_absolute_error(y_test, y_arima_pred)\n",
    "mape_arima = mean_absolute_percentage_error(y_test, y_arima_pred)\n",
    "\n",
    "\n",
    "print(f\"Modelo de Regressão Linear para {produto_teste}:\")\n",
    "print(f\"RMSE: {rmse_reg:.2f}, MAE: {mae_reg:.2f}, MAPE: {mape_reg:.2f}%\\n\")\n",
    "\n",
    "print(f\"Modelo ARIMA para {produto_teste}:\")\n",
    "print(f\"RMSE: {rmse_arima:.2f}, MAE: {mae_arima:.2f}, MAPE: {mape_arima:.2f}%\\n\")"
   ]
  },
  {
   "cell_type": "markdown",
   "metadata": {},
   "source": [
    "PLOTAGEM"
   ]
  },
  {
   "cell_type": "code",
   "execution_count": 10,
   "metadata": {},
   "outputs": [
    {
     "data": {
      "image/png": "[encoded data removed]",
      "text/plain": [
       "<Figure size 1000x600 with 1 Axes>"
      ]
     },
     "metadata": {},
     "output_type": "display_data"
    }
   ],
   "source": [
    "\n",
    "plt.figure(figsize=(10, 6))\n",
    "plt.plot(y_test.index, y_test, label='Real', color='blue')\n",
    "plt.plot(y_test.index, y_reg_pred, label='Regressão Linear', color='green', linestyle='dashed')\n",
    "plt.plot(y_test.index, y_arima_pred, label='ARIMA', color='red', linestyle='dashed')\n",
    "plt.legend()\n",
    "plt.title(f'Previsão de Demanda para \"HL Bottom Bracket\"')\n",
    "plt.xlabel('Data')\n",
    "plt.ylabel('Quantidade Vendida')\n",
    "plt.xticks(rotation=45)\n",
    "\n",
    "plt.savefig('9-regressao_linear.png', bbox_inches='tight')\n",
    "\n",
    "plt.show()"
   ]
  }
 ],
 "metadata": {
  "kernelspec": {
   "display_name": "Python 3",
   "language": "python",
   "name": "python3"
  },
  "language_info": {
   "codemirror_mode": {
    "name": "ipython",
    "version": 3
   },
   "file_extension": ".py",
   "mimetype": "text/x-python",
   "name": "python",
   "nbconvert_exporter": "python",
   "pygments_lexer": "ipython3",
   "version": "3.10.11"
  }
 },
 "nbformat": 4,
 "nbformat_minor": 2
}
