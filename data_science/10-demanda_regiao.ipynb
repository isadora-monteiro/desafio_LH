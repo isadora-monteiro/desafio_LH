{
 "cells": [
  {
   "cell_type": "code",
   "execution_count": 1,
   "metadata": {},
   "outputs": [],
   "source": [
    "import snowflake.connector\n",
    "import pandas as pd\n",
    "\n",
    "from statsmodels.tsa.arima.model import ARIMA\n",
    "import matplotlib.pyplot as plt"
   ]
  },
  {
   "cell_type": "markdown",
   "metadata": {},
   "source": [
    "CONEXÃO"
   ]
  },
  {
   "cell_type": "code",
   "execution_count": 2,
   "metadata": {},
   "outputs": [],
   "source": [
    "from dotenv import load_dotenv\n",
    "import os\n",
    "\n",
    "load_dotenv('config.env')\n",
    "\n",
    "user = os.getenv('user')\n",
    "password = os.getenv('password')\n",
    "account = os.getenv('account')\n",
    "warehouse = os.getenv('warehouse')\n",
    "database = os.getenv('database')\n",
    "schema = os.getenv('schema')"
   ]
  },
  {
   "cell_type": "code",
   "execution_count": 3,
   "metadata": {},
   "outputs": [],
   "source": [
    "conn = snowflake.connector.connect(\n",
    "    user=user\n",
    "    , password=password\n",
    "    , account=account \n",
    "    , warehouse=warehouse\n",
    "    , database=database   \n",
    "    , schema=schema       \n",
    ")"
   ]
  },
  {
   "cell_type": "code",
   "execution_count": 3,
   "metadata": {},
   "outputs": [],
   "source": [
    "cursor = conn.cursor()"
   ]
  },
  {
   "cell_type": "code",
   "execution_count": null,
   "metadata": {},
   "outputs": [],
   "source": [
    "cursor.close()\n",
    "conn.close()"
   ]
  },
  {
   "cell_type": "markdown",
   "metadata": {},
   "source": [
    "CARREGAR OS DADOS"
   ]
  },
  {
   "cell_type": "code",
   "execution_count": 4,
   "metadata": {},
   "outputs": [
    {
     "name": "stdout",
     "output_type": "stream",
     "text": [
      "                         NM_CLIENTE      REGIAO\n",
      "0                 Extreme Toy Store     Alabama\n",
      "1    Games and Sport Supply Company     Alabama\n",
      "2             Pedal Systems Company     Alabama\n",
      "3                Racing Association     Alabama\n",
      "4                 First Cycle Store     Arizona\n",
      "..                              ...         ...\n",
      "95                  Small Bike Shop  California\n",
      "96            Sports Products Store  California\n",
      "97    Technical Parts Manufacturing  California\n",
      "98  The Bicycle Accessories Company  California\n",
      "99               The New Bike Store  California\n",
      "\n",
      "[100 rows x 2 columns]\n"
     ]
    }
   ],
   "source": [
    "query = \"\"\"SELECT DISTINCT\n",
    "            NM_CLIENTE\n",
    "            , REGIAO\n",
    "        from agg_sales_store \"\"\"\n",
    "\n",
    "cursor.execute(query)\n",
    "rows = cursor.fetchall()\n",
    "\n",
    "columns = [desc[0] for desc in cursor.description]\n",
    "df_regiao = pd.DataFrame(rows, columns=columns)\n",
    "\n",
    "print(df_regiao.head(100))"
   ]
  },
  {
   "cell_type": "code",
   "execution_count": null,
   "metadata": {},
   "outputs": [],
   "source": [
    "df_cliente['DATA_REF'] = pd.to_datetime(df_cliente['DATA_REF'])\n",
    "df_cliente['MES'] = df_cliente['DATA_REF'].dt.month\n",
    "df_cliente['ANO'] = df_cliente['DATA_REF'].dt.year\n",
    "df_cliente['PMES'] = df_cliente['DATA_REF'].dt.to_period('M')"
   ]
  },
  {
   "cell_type": "code",
   "execution_count": 5,
   "metadata": {},
   "outputs": [
    {
     "name": "stdout",
     "output_type": "stream",
     "text": [
      "      Unnamed: 0            NOME_PRODUTO                      NM_CLIENTE  \\\n",
      "0              0  Mountain-200 Black, 46        Professional Cycle Store   \n",
      "1              1  Mountain-200 Black, 46             Real Sporting Goods   \n",
      "2              2  Mountain-200 Black, 46                Many Bikes Store   \n",
      "3              3  Mountain-200 Black, 46                 Resale Services   \n",
      "4              4  Mountain-200 Black, 46                 Small Bike Shop   \n",
      "...          ...                     ...                             ...   \n",
      "1726        1726        Road-650 Red, 44        Advanced Bike Components   \n",
      "1727        1727        Road-650 Red, 44               Fitness Toy Store   \n",
      "1728        1728        Road-650 Red, 44         Totes & Baskets Company   \n",
      "1729        1729        Road-650 Red, 44  Sure & Reliable Sporting Goods   \n",
      "1730        1730        Road-650 Red, 44                  Good Bike Shop   \n",
      "\n",
      "      forecast_1  forecast_2  forecast_3  \n",
      "0            2.5         2.8         3.0  \n",
      "1            8.7         7.1         6.1  \n",
      "2            2.5         2.8         3.0  \n",
      "3            5.3         4.7         4.3  \n",
      "4            2.3         2.6         2.7  \n",
      "...          ...         ...         ...  \n",
      "1726         4.6         5.1         5.4  \n",
      "1727         7.2         8.2         8.6  \n",
      "1728         6.7         6.4         6.1  \n",
      "1729         2.9         2.8         2.7  \n",
      "1730         2.2         2.4         2.5  \n",
      "\n",
      "[1731 rows x 6 columns]\n"
     ]
    }
   ],
   "source": [
    "df_previsao = pd.read_csv('8-previsao_demanda.csv')\n",
    "print(df_previsao)"
   ]
  },
  {
   "cell_type": "code",
   "execution_count": 6,
   "metadata": {},
   "outputs": [
    {
     "name": "stdout",
     "output_type": "stream",
     "text": [
      "      Unnamed: 0            NOME_PRODUTO                      NM_CLIENTE  \\\n",
      "0              0  Mountain-200 Black, 46        Professional Cycle Store   \n",
      "1              1  Mountain-200 Black, 46             Real Sporting Goods   \n",
      "2              2  Mountain-200 Black, 46                Many Bikes Store   \n",
      "3              3  Mountain-200 Black, 46                 Resale Services   \n",
      "4              4  Mountain-200 Black, 46                 Small Bike Shop   \n",
      "...          ...                     ...                             ...   \n",
      "1743        1726        Road-650 Red, 44        Advanced Bike Components   \n",
      "1744        1727        Road-650 Red, 44               Fitness Toy Store   \n",
      "1745        1728        Road-650 Red, 44         Totes & Baskets Company   \n",
      "1746        1729        Road-650 Red, 44  Sure & Reliable Sporting Goods   \n",
      "1747        1730        Road-650 Red, 44                  Good Bike Shop   \n",
      "\n",
      "      forecast_1  forecast_2  forecast_3      REGIAO  \n",
      "0            2.5         2.8         3.0     Arizona  \n",
      "1            8.7         7.1         6.1     Arizona  \n",
      "2            2.5         2.8         3.0  California  \n",
      "3            5.3         4.7         4.3  California  \n",
      "4            2.3         2.6         2.7  California  \n",
      "...          ...         ...         ...         ...  \n",
      "1743         4.6         5.1         5.4       Texas  \n",
      "1744         7.2         8.2         8.6       Texas  \n",
      "1745         6.7         6.4         6.1       Texas  \n",
      "1746         2.9         2.8         2.7  Washington  \n",
      "1747         2.2         2.4         2.5   Wisconsin  \n",
      "\n",
      "[1748 rows x 7 columns]\n"
     ]
    }
   ],
   "source": [
    "df_joined = pd.merge(df_previsao, df_regiao, on='NM_CLIENTE', how='inner') \n",
    "print(df_joined)"
   ]
  },
  {
   "cell_type": "code",
   "execution_count": 7,
   "metadata": {},
   "outputs": [
    {
     "name": "stdout",
     "output_type": "stream",
     "text": [
      "                forecast_1  forecast_2  forecast_3\n",
      "REGIAO                                            \n",
      "Canada              1593.3      1564.2      1549.4\n",
      "California           727.0       725.0       723.9\n",
      "Texas                706.9       703.9       700.9\n",
      "Washington           454.2       451.2       448.7\n",
      "France               396.1       392.7       390.9\n",
      "United Kingdom       316.4       311.3       308.9\n",
      "Colorado             296.7       291.5       288.3\n",
      "Michigan             273.4       268.5       265.1\n",
      "New York             191.0       191.9       193.8\n",
      "New Hampshire        186.7       184.9       184.5\n",
      "Missouri             149.5       147.6       146.6\n",
      "Florida              149.5       149.2       150.6\n",
      "Arizona              126.8       122.6       119.9\n",
      "Tennessee            124.7       122.2       120.4\n",
      "New Mexico           122.2       119.9       119.4\n",
      "Connecticut           99.5       101.5       102.7\n",
      "Virginia              88.0        83.8        81.8\n",
      "Nevada                85.8        81.4        78.3\n",
      "Georgia               84.8        80.7        78.2\n",
      "Wyoming               82.1        77.7        74.7\n",
      "Utah                  81.0        81.2        80.8\n",
      "Minnesota             59.0        60.6        61.7\n",
      "Wisconsin             53.0        52.9        53.2\n",
      "Maine                 52.6        52.2        52.3\n",
      "Mississippi           52.6        50.5        49.2\n",
      "North Carolina        46.6        47.5        47.7\n",
      "Ohio                  26.8        27.9        28.6\n",
      "Indiana               25.2        25.3        25.3\n",
      "Oregon                 9.5        11.2        12.4\n",
      "South Carolina         8.4         9.2         9.5\n",
      "Illinois               6.8         7.7         8.3\n",
      "Massachusetts          5.7         6.3         6.6\n"
     ]
    }
   ],
   "source": [
    "df_grouped = df_joined.groupby('REGIAO')[['forecast_1', 'forecast_2', 'forecast_3']].sum()\n",
    "\n",
    "\n",
    "df_grouped_sorted = df_grouped.sort_values(by='forecast_1', ascending=False)\n",
    "\n",
    "\n",
    "print(df_grouped_sorted)"
   ]
  },
  {
   "cell_type": "code",
   "execution_count": 8,
   "metadata": {},
   "outputs": [],
   "source": [
    "df_grouped_sorted.to_csv('10-demanda_regiao.csv')"
   ]
  }
 ],
 "metadata": {
  "kernelspec": {
   "display_name": "Python 3",
   "language": "python",
   "name": "python3"
  },
  "language_info": {
   "codemirror_mode": {
    "name": "ipython",
    "version": 3
   },
   "file_extension": ".py",
   "mimetype": "text/x-python",
   "name": "python",
   "nbconvert_exporter": "python",
   "pygments_lexer": "ipython3",
   "version": "3.10.11"
  }
 },
 "nbformat": 4,
 "nbformat_minor": 2
}
