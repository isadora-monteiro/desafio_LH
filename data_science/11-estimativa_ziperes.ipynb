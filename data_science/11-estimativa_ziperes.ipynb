{
 "cells": [
  {
   "cell_type": "code",
   "execution_count": 2,
   "metadata": {},
   "outputs": [],
   "source": [
    "import snowflake.connector\n",
    "import pandas as pd\n",
    "\n",
    "from statsmodels.tsa.arima.model import ARIMA\n",
    "import matplotlib.pyplot as plt"
   ]
  },
  {
   "cell_type": "markdown",
   "metadata": {},
   "source": [
    "CONEXÃO"
   ]
  },
  {
   "cell_type": "code",
   "execution_count": 3,
   "metadata": {},
   "outputs": [],
   "source": [
    "from dotenv import load_dotenv\n",
    "import os\n",
    "\n",
    "load_dotenv('config.env')\n",
    "\n",
    "user = os.getenv('user')\n",
    "password = os.getenv('password')\n",
    "account = os.getenv('account')\n",
    "warehouse = os.getenv('warehouse')\n",
    "database = os.getenv('database')\n",
    "schema = os.getenv('schema')"
   ]
  },
  {
   "cell_type": "code",
   "execution_count": 4,
   "metadata": {},
   "outputs": [],
   "source": [
    "conn = snowflake.connector.connect(\n",
    "    user=user\n",
    "    , password=password\n",
    "    , account=account \n",
    "    , warehouse=warehouse\n",
    "    , database=database   \n",
    "    , schema=schema       \n",
    ")"
   ]
  },
  {
   "cell_type": "code",
   "execution_count": 3,
   "metadata": {},
   "outputs": [],
   "source": [
    "cursor = conn.cursor()"
   ]
  },
  {
   "cell_type": "code",
   "execution_count": null,
   "metadata": {},
   "outputs": [],
   "source": [
    "cursor.close()\n",
    "conn.close()"
   ]
  },
  {
   "cell_type": "markdown",
   "metadata": {},
   "source": [
    "CARREGAR OS DADOS"
   ]
  },
  {
   "cell_type": "code",
   "execution_count": 4,
   "metadata": {},
   "outputs": [
    {
     "name": "stdout",
     "output_type": "stream",
     "text": [
      "           NM_CLIENTE        NOME_PRODUTO   ANO  MES    DATA_REF  QUANTIDADE  \\\n",
      "0   Extreme Toy Store        Front Brakes  2013   12  2013-12-01           1   \n",
      "1   Extreme Toy Store   HL Bottom Bracket  2013   12  2013-12-01           2   \n",
      "2   Extreme Toy Store   HL Bottom Bracket  2014    3  2014-03-01           1   \n",
      "3   Extreme Toy Store   HL Mountain Pedal  2013    6  2013-06-01           2   \n",
      "4   Extreme Toy Store         LL Crankset  2013    9  2013-09-01           1   \n",
      "..                ...                 ...   ...  ...         ...         ...   \n",
      "95  First Cycle Store  Road-250 Black, 48  2014    5  2014-05-01           3   \n",
      "96  First Cycle Store  Road-250 Black, 52  2013    7  2013-07-01           1   \n",
      "97  First Cycle Store  Road-250 Black, 52  2013   10  2013-10-01           1   \n",
      "98  First Cycle Store  Road-250 Black, 52  2014    5  2014-05-01           4   \n",
      "99  First Cycle Store  Road-250 Black, 58  2013    7  2013-07-01           1   \n",
      "\n",
      "     REGIAO  \n",
      "0   Alabama  \n",
      "1   Alabama  \n",
      "2   Alabama  \n",
      "3   Alabama  \n",
      "4   Alabama  \n",
      "..      ...  \n",
      "95  Arizona  \n",
      "96  Arizona  \n",
      "97  Arizona  \n",
      "98  Arizona  \n",
      "99  Arizona  \n",
      "\n",
      "[100 rows x 7 columns]\n"
     ]
    }
   ],
   "source": [
    "query = \"\"\"SELECT \n",
    "            NM_CLIENTE\n",
    "            , NOME_PRODUTO\n",
    "            , ANO\n",
    "            , MES\n",
    "            , DATA_REF\n",
    "            , QUANTIDADE\n",
    "            , REGIAO\n",
    "        from agg_sales_store \"\"\"\n",
    "\n",
    "cursor.execute(query)\n",
    "rows = cursor.fetchall()\n",
    "\n",
    "columns = [desc[0] for desc in cursor.description]\n",
    "df_cliente = pd.DataFrame(rows, columns=columns)\n",
    "\n",
    "print(df_cliente.head(100))"
   ]
  },
  {
   "cell_type": "code",
   "execution_count": 5,
   "metadata": {},
   "outputs": [
    {
     "name": "stdout",
     "output_type": "stream",
     "text": [
      "      Unnamed: 0            NOME_PRODUTO                      NM_CLIENTE  \\\n",
      "0              0  Mountain-200 Black, 46        Professional Cycle Store   \n",
      "1              1  Mountain-200 Black, 46             Real Sporting Goods   \n",
      "2              2  Mountain-200 Black, 46                Many Bikes Store   \n",
      "3              3  Mountain-200 Black, 46                 Resale Services   \n",
      "4              4  Mountain-200 Black, 46                 Small Bike Shop   \n",
      "...          ...                     ...                             ...   \n",
      "1726        1726        Road-650 Red, 44        Advanced Bike Components   \n",
      "1727        1727        Road-650 Red, 44               Fitness Toy Store   \n",
      "1728        1728        Road-650 Red, 44         Totes & Baskets Company   \n",
      "1729        1729        Road-650 Red, 44  Sure & Reliable Sporting Goods   \n",
      "1730        1730        Road-650 Red, 44                  Good Bike Shop   \n",
      "\n",
      "      forecast_1  forecast_2  forecast_3  \n",
      "0            2.5         2.8         3.0  \n",
      "1            8.7         7.1         6.1  \n",
      "2            2.5         2.8         3.0  \n",
      "3            5.3         4.7         4.3  \n",
      "4            2.3         2.6         2.7  \n",
      "...          ...         ...         ...  \n",
      "1726         4.6         5.1         5.4  \n",
      "1727         7.2         8.2         8.6  \n",
      "1728         6.7         6.4         6.1  \n",
      "1729         2.9         2.8         2.7  \n",
      "1730         2.2         2.4         2.5  \n",
      "\n",
      "[1731 rows x 6 columns]\n"
     ]
    }
   ],
   "source": [
    "df_previsao = pd.read_csv('8-previsao_demanda.csv')\n",
    "print(df_previsao)"
   ]
  },
  {
   "cell_type": "code",
   "execution_count": 8,
   "metadata": {},
   "outputs": [
    {
     "name": "stdout",
     "output_type": "stream",
     "text": [
      "['Half-Finger Gloves, S' 'Half-Finger Gloves, M' 'Half-Finger Gloves, L']\n"
     ]
    }
   ],
   "source": [
    "produtos_glove = df_previsao[df_previsao['NOME_PRODUTO'].str.contains('glove', case=False, na=False)]['NOME_PRODUTO'].unique()\n",
    "\n",
    "print(produtos_glove)"
   ]
  },
  {
   "cell_type": "code",
   "execution_count": 9,
   "metadata": {},
   "outputs": [
    {
     "name": "stdout",
     "output_type": "stream",
     "text": [
      "Estimativa da quantidade zíperes para o novo fornecedor: 1604.0\n"
     ]
    }
   ],
   "source": [
    "df_filtered = df_previsao[df_previsao['NOME_PRODUTO'].isin(produtos_glove)]\n",
    "\n",
    "total_quantity = df_filtered[['forecast_1', 'forecast_2', 'forecast_3']].sum()\n",
    "\n",
    "total_sum = round(total_quantity.sum(), 0)\n",
    "\n",
    "final_result = total_sum * 2\n",
    "\n",
    "print(f\"Estimativa da quantidade zíperes para o novo fornecedor: {final_result}\")"
   ]
  }
 ],
 "metadata": {
  "kernelspec": {
   "display_name": "Python 3",
   "language": "python",
   "name": "python3"
  },
  "language_info": {
   "codemirror_mode": {
    "name": "ipython",
    "version": 3
   },
   "file_extension": ".py",
   "mimetype": "text/x-python",
   "name": "python",
   "nbconvert_exporter": "python",
   "pygments_lexer": "ipython3",
   "version": "3.10.11"
  }
 },
 "nbformat": 4,
 "nbformat_minor": 2
}
